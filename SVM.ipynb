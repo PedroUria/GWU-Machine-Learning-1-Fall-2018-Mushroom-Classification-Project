{
 "cells": [
  {
   "cell_type": "code",
   "execution_count": 2,
   "metadata": {},
   "outputs": [],
   "source": [
    "%matplotlib inline\n",
    "import matplotlib.pyplot as plt\n",
    "import warnings\n",
    "warnings.filterwarnings(\"ignore\")\n",
    "import numpy as np \n",
    "import pandas as pd\n",
    "from sklearn.svm import SVC\n",
    "from sklearn.model_selection import train_test_split\n",
    "from sklearn.preprocessing import StandardScaler\n",
    "from sklearn.preprocessing import LabelEncoder\n",
    "from sklearn.pipeline import Pipeline\n",
    "from sklearn.model_selection import GridSearchCV\n",
    "from sklearn.model_selection import StratifiedKFold"
   ]
  },
  {
   "cell_type": "code",
   "execution_count": 2,
   "metadata": {},
   "outputs": [],
   "source": [
    "# Loads the data from UCI Machine Learning Repo into a pandas DataFrame\n",
    "mushrooms = pd.read_csv(\"https://archive.ics.uci.edu/ml/machine-learning-databases/mushroom/agaricus-lepiota.data\")\n",
    "columns = ['class', 'cap-shape', 'cap-surface', 'cap-color', 'bruises', 'odor',\n",
    "       'gill-attachment', 'gill-spacing', 'gill-size', 'gill-color',\n",
    "       'stalk-shape', 'stalk-root', 'stalk-surface-above-ring',\n",
    "       'stalk-surface-below-ring', 'stalk-color-above-ring',\n",
    "       'stalk-color-below-ring', 'veil-type', 'veil-color', 'ring-number',\n",
    "       'ring-type', 'spore-print-color', 'population', 'habitat']\n",
    "# Names the columns \n",
    "mushrooms.columns = columns\n",
    "# Replace \"?\" (represents missing values on UCI Machine Learning Repo) witn np.NaN\n",
    "mushrooms.replace('?', np.NaN, inplace = True)"
   ]
  },
  {
   "cell_type": "code",
   "execution_count": 17,
   "metadata": {},
   "outputs": [],
   "source": [
    "# Gets a dataset without the problematic feature\n",
    "mushrooms_no_stalk_root = mushrooms.drop(\"stalk-root\", axis = 1)\n",
    "\n",
    "# Gets the predictor features \n",
    "X = mushrooms_no_stalk_root.drop([\"class\"], axis=1)\n",
    "# And encodes them (they are all categorical)\n",
    "X = pd.get_dummies(X).values\n",
    "# Gets the target feature (binary)\n",
    "y = mushrooms_no_stalk_root[\"class\"].values\n",
    "\n",
    "le = LabelEncoder()\n",
    "# Encodes the target\n",
    "y = le.fit_transform(y)\n",
    "\n",
    "# Splits between training and testing, stratifying by the target variable\n",
    "X_train, X_test, y_train, y_test = train_test_split(X, y, test_size = 0.3, random_state = 0, stratify = y)\n",
    "\n",
    "# No need to standardize as we only have 1s and 0s for all of our variables (they are all categorical)\n",
    "#std_scaler = StandardScaler()\n",
    "# Standardizes training data\n",
    "#X_train = std_scaler.fit_transform(X_train)\n",
    "# and testing data with training data's mean and stdv\n",
    "#X_test = std_scaler.transform(X_test)"
   ]
  },
  {
   "cell_type": "code",
   "execution_count": 4,
   "metadata": {},
   "outputs": [
    {
     "data": {
      "text/plain": [
       "0.9983586376692655"
      ]
     },
     "execution_count": 4,
     "metadata": {},
     "output_type": "execute_result"
    }
   ],
   "source": [
    "svc = SVC(random_state = 0)\n",
    "svc.fit(X_train, y_train)\n",
    "svc.score(X_test, y_test)"
   ]
  },
  {
   "cell_type": "code",
   "execution_count": 5,
   "metadata": {},
   "outputs": [],
   "source": [
    "pipe = Pipeline([('clf', SVC(random_state = 0))])"
   ]
  },
  {
   "cell_type": "code",
   "execution_count": 6,
   "metadata": {},
   "outputs": [],
   "source": [
    "param_grid = [{'clf__C': [0.01, 0.1, 1, 10, 100],\n",
    "               'clf__gamma': [0.01, 0.1, 1, 10, 100],\n",
    "               'clf__kernel': ['linear', 'poly', 'rbf', 'sigmoid']}]"
   ]
  },
  {
   "cell_type": "markdown",
   "metadata": {},
   "source": [
    "This grid search is [very slow](https://stackoverflow.com/questions/40077432/scikit-learn-svm-svc-is-extremely-slow) for such large datasets, but still acceptable."
   ]
  },
  {
   "cell_type": "code",
   "execution_count": 8,
   "metadata": {},
   "outputs": [],
   "source": [
    "#import time\n",
    "#start = time.time()\n",
    "#gs = GridSearchCV(estimator=pipe,\n",
    "                      #param_grid=param_grid,\n",
    "                      #scoring='accuracy',\n",
    "                      #cv=StratifiedKFold(n_splits=10,\n",
    "                      #                   shuffle=True,\n",
    "                      #                   random_state=0)) \n",
    "# Fit the pipeline\n",
    "#gs = gs.fit(X_train, y_train)\n",
    "    \n",
    "# Update best_score_param_estimators\n",
    "#print(gs.best_score_, gs.best_params_, gs.best_estimator_)\n",
    "#print(time.time() - start) \n",
    "\n",
    "# Output:\n",
    "\n",
    "# 1.0 {'clf__C': 0.01, 'clf__gamma': 1, 'clf__kernel': 'poly'} Pipeline(memory=None,\n",
    "#     steps=[('clf', SVC(C=0.01, cache_size=200, class_weight=None, coef0=0.0,\n",
    "#  decision_function_shape='ovr', degree=3, gamma=1, kernel='poly',\n",
    "#  max_iter=-1, probability=False, random_state=0, shrinking=True,\n",
    "#  tol=0.001, verbose=False))])\n",
    "# 3607.864349126816"
   ]
  },
  {
   "cell_type": "code",
   "execution_count": 9,
   "metadata": {},
   "outputs": [
    {
     "data": {
      "text/plain": [
       "1.0"
      ]
     },
     "execution_count": 9,
     "metadata": {},
     "output_type": "execute_result"
    }
   ],
   "source": [
    "svc = SVC(C=0.01, cache_size=200, class_weight=None, coef0=0.0,\n",
    "  decision_function_shape='ovr', degree=3, gamma=1, kernel='poly',\n",
    "  max_iter=-1, probability=False, random_state=0, shrinking=True,\n",
    "  tol=0.001, verbose=False)\n",
    "svc.fit(X_train, y_train)\n",
    "svc.score(X_test, y_test) "
   ]
  },
  {
   "cell_type": "markdown",
   "metadata": {},
   "source": [
    "Using only the most important features learned by random forest."
   ]
  },
  {
   "cell_type": "code",
   "execution_count": 10,
   "metadata": {},
   "outputs": [
    {
     "data": {
      "text/plain": [
       "1.0"
      ]
     },
     "execution_count": 10,
     "metadata": {},
     "output_type": "execute_result"
    }
   ],
   "source": [
    "X = pd.get_dummies(mushrooms[['odor', 'stalk-surface-above-ring', 'gill-color', 'gill-size',\n",
    " 'spore-print-color', 'stalk-surface-below-ring', 'ring-type']]).values\n",
    "y = mushrooms[\"class\"].values\n",
    "le = LabelEncoder()\n",
    "y = le.fit_transform(y)\n",
    "X_train, X_test, y_train, y_test = train_test_split(X, y, test_size = 0.3, random_state = 0, stratify = y)\n",
    "svc = SVC(C=0.01, cache_size=200, class_weight=None, coef0=0.0,\n",
    "  decision_function_shape='ovr', degree=3, gamma=1, kernel='poly',\n",
    "  max_iter=-1, probability=False, random_state=0, shrinking=True,\n",
    "  tol=0.001, verbose=False)\n",
    "svc.fit(X_train, y_train)\n",
    "svc.score(X_test, y_test) "
   ]
  },
  {
   "cell_type": "code",
   "execution_count": 11,
   "metadata": {},
   "outputs": [],
   "source": [
    "pipe = Pipeline([('clf', SVC(random_state = 0))]) "
   ]
  },
  {
   "cell_type": "code",
   "execution_count": 12,
   "metadata": {},
   "outputs": [],
   "source": [
    "param_grid = [{'clf__C': [0.01, 0.1, 1, 10, 100],\n",
    "               'clf__gamma': [0.01, 0.1, 1, 10, 100],\n",
    "               'clf__kernel': ['linear', 'poly', 'rbf', 'sigmoid']}]"
   ]
  },
  {
   "cell_type": "markdown",
   "metadata": {},
   "source": [
    "This grid search is [very slow](https://stackoverflow.com/questions/40077432/scikit-learn-svm-svc-is-extremely-slow) for such large datasets. This may be better to run after PCA!"
   ]
  },
  {
   "cell_type": "code",
   "execution_count": 13,
   "metadata": {},
   "outputs": [],
   "source": [
    "#import time\n",
    "#start = time.time()\n",
    "#gs = GridSearchCV(estimator=pipe,\n",
    "                      #param_grid=param_grid,\n",
    "                      #scoring='accuracy',\n",
    "                      #cv=StratifiedKFold(n_splits=10,\n",
    "                      #                   shuffle=True,\n",
    "                      #                   random_state=0)) \n",
    "# Fit the pipeline\n",
    "#gs = gs.fit(X_train, y_train)\n",
    "    \n",
    "# Update best_score_param_estimators#\n",
    "#print(gs.best_score_, gs.best_params_, gs.best_estimator_)\n",
    "#print(time.time() - start) \n",
    "\n",
    "# Output:\n",
    "\n",
    "# 1.0 {'clf__C': 0.01, 'clf__gamma': 1, 'clf__kernel': 'poly'} Pipeline(memory=None,\n",
    "#     steps=[('clf', SVC(C=0.01, cache_size=200, class_weight=None, coef0=0.0,\n",
    "#  decision_function_shape='ovr', degree=3, gamma=1, kernel='poly',\n",
    "#  max_iter=-1, probability=False, random_state=0, shrinking=True,\n",
    "#  tol=0.001, verbose=False))])\n",
    "# 896.680046081543"
   ]
  },
  {
   "cell_type": "code",
   "execution_count": 14,
   "metadata": {},
   "outputs": [
    {
     "data": {
      "text/plain": [
       "1.0"
      ]
     },
     "execution_count": 14,
     "metadata": {},
     "output_type": "execute_result"
    }
   ],
   "source": [
    "svc = SVC(C=0.01, cache_size=200, class_weight=None, coef0=0.0,\n",
    "  decision_function_shape='ovr', degree=3, gamma=1, kernel='poly',\n",
    "  max_iter=-1, probability=False, random_state=0, shrinking=True,\n",
    "  tol=0.001, verbose=False)\n",
    "svc.fit(X_train, y_train)\n",
    "svc.score(X_test, y_test) "
   ]
  },
  {
   "cell_type": "markdown",
   "metadata": {},
   "source": [
    "# TODO: Use PCA and interpret SVM for two or maybe 3 dimensions"
   ]
  },
  {
   "cell_type": "code",
   "execution_count": 3,
   "metadata": {},
   "outputs": [
    {
     "data": {
      "text/plain": [
       "0.901928600738613"
      ]
     },
     "execution_count": 3,
     "metadata": {},
     "output_type": "execute_result"
    }
   ],
   "source": [
    "# Gets a dataset without the problematic feature\n",
    "mushrooms_no_stalk_root = mushrooms.drop(\"stalk-root\", axis = 1)\n",
    "\n",
    "# Gets the predictor features \n",
    "X = mushrooms_no_stalk_root.drop([\"class\"], axis=1)\n",
    "# And encodes them (they are all categorical)\n",
    "X = pd.get_dummies(X).values\n",
    "# Gets the target feature (binary)\n",
    "y = mushrooms_no_stalk_root[\"class\"].values\n",
    "\n",
    "le = LabelEncoder()\n",
    "# Encodes the target\n",
    "y = le.fit_transform(y)\n",
    "\n",
    "# Splits between training and testing, stratifying by the target variable\n",
    "X_train, X_test, y_train, y_test = train_test_split(X, y, test_size = 0.3, random_state = 0, stratify = y)\n",
    "\n",
    "from sklearn.decomposition import PCA\n",
    "pca = PCA(n_components=2)\n",
    "\n",
    "X_train = pca.fit_transform(X_train)\n",
    "X_test = pca.transform(X_test)\n",
    "\n",
    "svc = SVC(C=0.01, cache_size=200, class_weight=None, coef0=0.0,\n",
    "  decision_function_shape='ovr', degree=3, gamma=1, kernel='poly',\n",
    "  max_iter=-1, probability=False, random_state=0, shrinking=True,\n",
    "  tol=0.001, verbose=False)\n",
    "svc.fit(X_train, y_train)\n",
    "svc.score(X_test, y_test) "
   ]
  },
  {
   "cell_type": "code",
   "execution_count": null,
   "metadata": {},
   "outputs": [],
   "source": [
    "pipe = Pipeline([('clf', SVC(random_state = 0))])\n",
    "\n",
    "param_grid = [{'clf__C': [0.01, 0.1, 1, 10, 100],\n",
    "               'clf__gamma': [0.01, 0.1, 1, 10, 100],\n",
    "               'clf__kernel': ['linear', 'poly', 'rbf', 'sigmoid']}]\n",
    "\n",
    "import time\n",
    "start = time.time()\n",
    "gs = GridSearchCV(estimator=pipe,\n",
    "                      param_grid=param_grid,\n",
    "                      scoring='accuracy',\n",
    "                      cv=StratifiedKFold(n_splits=10,\n",
    "                                         shuffle=True,\n",
    "                                         random_state=0)) \n",
    "gs = gs.fit(X_train, y_train)\n",
    "print(gs.best_score_, gs.best_params_, gs.best_estimator_)\n",
    "print(time.time() - start) "
   ]
  },
  {
   "cell_type": "code",
   "execution_count": null,
   "metadata": {},
   "outputs": [],
   "source": []
  },
  {
   "cell_type": "code",
   "execution_count": null,
   "metadata": {},
   "outputs": [],
   "source": []
  },
  {
   "cell_type": "code",
   "execution_count": null,
   "metadata": {},
   "outputs": [],
   "source": []
  },
  {
   "cell_type": "markdown",
   "metadata": {},
   "source": [
    "# Learning and validation curves for decision tree. It is not overfitting."
   ]
  },
  {
   "cell_type": "code",
   "execution_count": 22,
   "metadata": {},
   "outputs": [],
   "source": [
    "# Gets a dataset without the problematic feature\n",
    "mushrooms_no_stalk_root = mushrooms.drop(\"stalk-root\", axis = 1)\n",
    "\n",
    "# Gets the predictor features \n",
    "X = mushrooms_no_stalk_root.drop([\"class\"], axis=1)\n",
    "# And encodes them (they are all categorical)\n",
    "X = pd.get_dummies(X).values\n",
    "# Gets the target feature (binary)\n",
    "y = mushrooms_no_stalk_root[\"class\"].values\n",
    "\n",
    "le = LabelEncoder()\n",
    "# Encodes the target\n",
    "y = le.fit_transform(y)\n",
    "\n",
    "# Splits between training and testing, stratifying by the target variable\n",
    "X_train, X_test, y_train, y_test = train_test_split(X, y, test_size = 0.3, random_state = 0, stratify = y)\n",
    "\n",
    "# No need to standardize as we only have 1s and 0s for all of our variables (they are all categorical)\n",
    "#std_scaler = StandardScaler()\n",
    "# Standardizes training data\n",
    "#X_train = std_scaler.fit_transform(X_train)\n",
    "# and testing data with training data's mean and stdv\n",
    "#X_test = std_scaler.transform(X_test)"
   ]
  },
  {
   "cell_type": "code",
   "execution_count": 24,
   "metadata": {},
   "outputs": [
    {
     "data": {
      "text/plain": [
       "1.0"
      ]
     },
     "execution_count": 24,
     "metadata": {},
     "output_type": "execute_result"
    }
   ],
   "source": [
    "from sklearn.tree import DecisionTreeClassifier\n",
    "tree = DecisionTreeClassifier(random_state = 0)\n",
    "# Fits the training data to a Decision Tree\n",
    "tree.fit(X_train, y_train)\n",
    "# Evaluates the model using the testing data\n",
    "tree.score(X_test, y_test)"
   ]
  },
  {
   "cell_type": "markdown",
   "metadata": {},
   "source": [
    "PML pag 197."
   ]
  },
  {
   "cell_type": "code",
   "execution_count": 28,
   "metadata": {},
   "outputs": [
    {
     "data": {
      "image/png": "[encoded data removed]",
      "text/plain": [
       "<Figure size 432x288 with 1 Axes>"
      ]
     },
     "metadata": {},
     "output_type": "display_data"
    }
   ],
   "source": [
    "from sklearn.model_selection import learning_curve \n",
    "pipe_lr = Pipeline([(\"tree\", DecisionTreeClassifier(random_state = 0))])\n",
    "train_sizes, train_scores, test_scores = learning_curve(estimator=pipe_lr,\n",
    "                                                        X=X_train, y=y_train,\n",
    "                                                        train_sizes=np.linspace(0.1, 1.0, 10),\n",
    "                                                        cv=10)\n",
    "train_mean = np.mean(train_scores, axis=1)\n",
    "train_std = np.std(train_scores, axis=1)\n",
    "test_mean = np.mean(test_scores, axis=1)\n",
    "test_std = np.std(test_scores, axis=1)\n",
    "plt.plot(train_sizes, train_mean, color='blue', marker='o', markersize=5, label='training accuracy')  \n",
    "plt.fill_between(train_sizes,train_mean + train_std,\n",
    "                 train_mean - train_std,alpha=0.15, color='blue')\n",
    "#plt.plot(train_sizes, test_mean, color='green', linestyle='--',\n",
    "#         marker='s', markersize=5, label='validation accuracy')\n",
    "#plt.fill_between(train_sizes, test_mean + test_std,\n",
    "#                 test_mean - test_std, alpha=0.15, color='green')\n",
    "plt.grid()\n",
    "plt.xlabel('Number of training samples')\n",
    "plt.ylabel('Accuracy')\n",
    "plt.legend(loc='lower right')\n",
    "plt.ylim([0.8, 1.0])\n",
    "plt.show()"
   ]
  },
  {
   "cell_type": "code",
   "execution_count": 29,
   "metadata": {},
   "outputs": [
    {
     "data": {
      "image/png": "[encoded data removed]",
      "text/plain": [
       "<Figure size 432x288 with 1 Axes>"
      ]
     },
     "metadata": {},
     "output_type": "display_data"
    }
   ],
   "source": [
    "plt.plot(train_sizes, test_mean, color='green', linestyle='--',\n",
    "         marker='s', markersize=5, label='validation accuracy')\n",
    "plt.fill_between(train_sizes, test_mean + test_std,\n",
    "                 test_mean - test_std, alpha=0.15, color='green')\n",
    "plt.grid()\n",
    "plt.xlabel('Number of training samples')\n",
    "plt.ylabel('Accuracy')\n",
    "plt.legend(loc='lower right')\n",
    "plt.ylim([0.8, 1.0])\n",
    "plt.show()"
   ]
  },
  {
   "cell_type": "code",
   "execution_count": 36,
   "metadata": {},
   "outputs": [
    {
     "data": {
      "image/png": "[encoded data removed]",
      "text/plain": [
       "<Figure size 432x288 with 1 Axes>"
      ]
     },
     "metadata": {},
     "output_type": "display_data"
    }
   ],
   "source": [
    "from sklearn.model_selection import validation_curve\n",
    "\n",
    "\n",
    "param_range = [2, 5, 10, 15, 20, 25, 30]\n",
    "train_scores, test_scores = validation_curve(\n",
    "                estimator=pipe_lr, \n",
    "                X=X_train, \n",
    "                y=y_train, \n",
    "                param_name=\"tree__min_samples_split\", \n",
    "                param_range=param_range,\n",
    "                cv=10)\n",
    "\n",
    "train_mean = np.mean(train_scores, axis=1)\n",
    "train_std = np.std(train_scores, axis=1)\n",
    "test_mean = np.mean(test_scores, axis=1)\n",
    "test_std = np.std(test_scores, axis=1)\n",
    "\n",
    "plt.plot(param_range, train_mean, \n",
    "         color='blue', marker='o', \n",
    "         markersize=5, label='training accuracy')\n",
    "\n",
    "plt.fill_between(param_range, train_mean + train_std,\n",
    "                 train_mean - train_std, alpha=0.15,\n",
    "                 color='blue')\n",
    "\n",
    "plt.plot(param_range, test_mean, \n",
    "         color='green', linestyle='--', \n",
    "         marker='s', markersize=5, \n",
    "         label='validation accuracy')\n",
    "\n",
    "plt.fill_between(param_range, \n",
    "                 test_mean + test_std,\n",
    "                 test_mean - test_std, \n",
    "                 alpha=0.15, color='green')\n",
    "\n",
    "plt.grid()\n",
    "plt.xscale('log')\n",
    "plt.legend(loc='lower right')\n",
    "plt.xlabel('Parameter C')\n",
    "plt.ylabel('Accuracy')\n",
    "plt.ylim([0.8, 1.0])\n",
    "plt.tight_layout()\n",
    "# plt.savefig('images/06_06.png', dpi=300)\n",
    "plt.show()"
   ]
  },
  {
   "cell_type": "code",
   "execution_count": null,
   "metadata": {},
   "outputs": [],
   "source": []
  },
  {
   "cell_type": "markdown",
   "metadata": {},
   "source": [
    "# Checking something..."
   ]
  },
  {
   "cell_type": "code",
   "execution_count": 3,
   "metadata": {},
   "outputs": [],
   "source": [
    "mushrooms = pd.read_csv(\"https://archive.ics.uci.edu/ml/machine-learning-databases/mushroom/agaricus-lepiota.data\")\n",
    "columns = ['class', 'cap-shape', 'cap-surface', 'cap-color', 'bruises', 'odor',\n",
    "       'gill-attachment', 'gill-spacing', 'gill-size', 'gill-color',\n",
    "       'stalk-shape', 'stalk-root', 'stalk-surface-above-ring',\n",
    "       'stalk-surface-below-ring', 'stalk-color-above-ring',\n",
    "       'stalk-color-below-ring', 'veil-type', 'veil-color', 'ring-number',\n",
    "       'ring-type', 'spore-print-color', 'population', 'habitat']\n",
    "# Names the columns \n",
    "mushrooms.columns = columns\n",
    "# Replace \"?\" (represents missing values on UCI Machine Learning Repo) witn np.NaN\n",
    "mushrooms.replace('?', np.NaN, inplace = True)"
   ]
  },
  {
   "cell_type": "code",
   "execution_count": 4,
   "metadata": {},
   "outputs": [
    {
     "data": {
      "text/plain": [
       "(8123, 23)"
      ]
     },
     "execution_count": 4,
     "metadata": {},
     "output_type": "execute_result"
    }
   ],
   "source": [
    "mushrooms.shape"
   ]
  },
  {
   "cell_type": "code",
   "execution_count": 6,
   "metadata": {},
   "outputs": [
    {
     "data": {
      "text/plain": [
       "(8123, 23)"
      ]
     },
     "execution_count": 6,
     "metadata": {},
     "output_type": "execute_result"
    }
   ],
   "source": [
    "mushrooms.drop_duplicates().shape"
   ]
  },
  {
   "cell_type": "code",
   "execution_count": null,
   "metadata": {},
   "outputs": [],
   "source": []
  }
 ],
 "metadata": {
  "kernelspec": {
   "display_name": "Python 3",
   "language": "python",
   "name": "python3"
  },
  "language_info": {
   "codemirror_mode": {
    "name": "ipython",
    "version": 3
   },
   "file_extension": ".py",
   "mimetype": "text/x-python",
   "name": "python",
   "nbconvert_exporter": "python",
   "pygments_lexer": "ipython3",
   "version": "3.6.5"
  }
 },
 "nbformat": 4,
 "nbformat_minor": 2
}
