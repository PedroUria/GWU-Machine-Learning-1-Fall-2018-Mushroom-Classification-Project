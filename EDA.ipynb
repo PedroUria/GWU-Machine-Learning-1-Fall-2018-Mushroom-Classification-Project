{
 "cells": [
  {
   "cell_type": "code",
   "execution_count": 1,
   "metadata": {},
   "outputs": [],
   "source": [
    "%matplotlib inline\n",
    "import numpy as np \n",
    "import pandas as pd\n",
    "import matplotlib.pyplot as plt"
   ]
  },
  {
   "cell_type": "code",
   "execution_count": 2,
   "metadata": {},
   "outputs": [],
   "source": [
    "# Reads the data from the UCI Machine Learning Repository as a pandas DataFrame\n",
    "dataset = pd.read_csv(\"https://archive.ics.uci.edu/ml/machine-learning-databases/mushroom/agaricus-lepiota.data\")\n",
    "# Names the columns of the pandas DataFrame \n",
    "columns = ['class', 'cap-shape', 'cap-surface', 'cap-color', 'bruises', 'odor',\n",
    "       'gill-attachment', 'gill-spacing', 'gill-size', 'gill-color',\n",
    "       'stalk-shape', 'stalk-root', 'stalk-surface-above-ring',\n",
    "       'stalk-surface-below-ring', 'stalk-color-above-ring',\n",
    "       'stalk-color-below-ring', 'veil-type', 'veil-color', 'ring-number',\n",
    "       'ring-type', 'spore-print-color', 'population', 'habitat']\n",
    "dataset.columns = columns"
   ]
  },
  {
   "cell_type": "code",
   "execution_count": 3,
   "metadata": {},
   "outputs": [
    {
     "data": {
      "text/html": [
       "<div>\n",
       "<style scoped>\n",
       "    .dataframe tbody tr th:only-of-type {\n",
       "        vertical-align: middle;\n",
       "    }\n",
       "\n",
       "    .dataframe tbody tr th {\n",
       "        vertical-align: top;\n",
       "    }\n",
       "\n",
       "    .dataframe thead th {\n",
       "        text-align: right;\n",
       "    }\n",
       "</style>\n",
       "<table border=\"1\" class=\"dataframe\">\n",
       "  <thead>\n",
       "    <tr style=\"text-align: right;\">\n",
       "      <th></th>\n",
       "      <th>class</th>\n",
       "      <th>cap-shape</th>\n",
       "      <th>cap-surface</th>\n",
       "      <th>cap-color</th>\n",
       "      <th>bruises</th>\n",
       "      <th>odor</th>\n",
       "      <th>gill-attachment</th>\n",
       "      <th>gill-spacing</th>\n",
       "      <th>gill-size</th>\n",
       "      <th>gill-color</th>\n",
       "      <th>...</th>\n",
       "      <th>stalk-surface-below-ring</th>\n",
       "      <th>stalk-color-above-ring</th>\n",
       "      <th>stalk-color-below-ring</th>\n",
       "      <th>veil-type</th>\n",
       "      <th>veil-color</th>\n",
       "      <th>ring-number</th>\n",
       "      <th>ring-type</th>\n",
       "      <th>spore-print-color</th>\n",
       "      <th>population</th>\n",
       "      <th>habitat</th>\n",
       "    </tr>\n",
       "  </thead>\n",
       "  <tbody>\n",
       "    <tr>\n",
       "      <th>0</th>\n",
       "      <td>e</td>\n",
       "      <td>x</td>\n",
       "      <td>s</td>\n",
       "      <td>y</td>\n",
       "      <td>t</td>\n",
       "      <td>a</td>\n",
       "      <td>f</td>\n",
       "      <td>c</td>\n",
       "      <td>b</td>\n",
       "      <td>k</td>\n",
       "      <td>...</td>\n",
       "      <td>s</td>\n",
       "      <td>w</td>\n",
       "      <td>w</td>\n",
       "      <td>p</td>\n",
       "      <td>w</td>\n",
       "      <td>o</td>\n",
       "      <td>p</td>\n",
       "      <td>n</td>\n",
       "      <td>n</td>\n",
       "      <td>g</td>\n",
       "    </tr>\n",
       "    <tr>\n",
       "      <th>1</th>\n",
       "      <td>e</td>\n",
       "      <td>b</td>\n",
       "      <td>s</td>\n",
       "      <td>w</td>\n",
       "      <td>t</td>\n",
       "      <td>l</td>\n",
       "      <td>f</td>\n",
       "      <td>c</td>\n",
       "      <td>b</td>\n",
       "      <td>n</td>\n",
       "      <td>...</td>\n",
       "      <td>s</td>\n",
       "      <td>w</td>\n",
       "      <td>w</td>\n",
       "      <td>p</td>\n",
       "      <td>w</td>\n",
       "      <td>o</td>\n",
       "      <td>p</td>\n",
       "      <td>n</td>\n",
       "      <td>n</td>\n",
       "      <td>m</td>\n",
       "    </tr>\n",
       "    <tr>\n",
       "      <th>2</th>\n",
       "      <td>p</td>\n",
       "      <td>x</td>\n",
       "      <td>y</td>\n",
       "      <td>w</td>\n",
       "      <td>t</td>\n",
       "      <td>p</td>\n",
       "      <td>f</td>\n",
       "      <td>c</td>\n",
       "      <td>n</td>\n",
       "      <td>n</td>\n",
       "      <td>...</td>\n",
       "      <td>s</td>\n",
       "      <td>w</td>\n",
       "      <td>w</td>\n",
       "      <td>p</td>\n",
       "      <td>w</td>\n",
       "      <td>o</td>\n",
       "      <td>p</td>\n",
       "      <td>k</td>\n",
       "      <td>s</td>\n",
       "      <td>u</td>\n",
       "    </tr>\n",
       "    <tr>\n",
       "      <th>3</th>\n",
       "      <td>e</td>\n",
       "      <td>x</td>\n",
       "      <td>s</td>\n",
       "      <td>g</td>\n",
       "      <td>f</td>\n",
       "      <td>n</td>\n",
       "      <td>f</td>\n",
       "      <td>w</td>\n",
       "      <td>b</td>\n",
       "      <td>k</td>\n",
       "      <td>...</td>\n",
       "      <td>s</td>\n",
       "      <td>w</td>\n",
       "      <td>w</td>\n",
       "      <td>p</td>\n",
       "      <td>w</td>\n",
       "      <td>o</td>\n",
       "      <td>e</td>\n",
       "      <td>n</td>\n",
       "      <td>a</td>\n",
       "      <td>g</td>\n",
       "    </tr>\n",
       "    <tr>\n",
       "      <th>4</th>\n",
       "      <td>e</td>\n",
       "      <td>x</td>\n",
       "      <td>y</td>\n",
       "      <td>y</td>\n",
       "      <td>t</td>\n",
       "      <td>a</td>\n",
       "      <td>f</td>\n",
       "      <td>c</td>\n",
       "      <td>b</td>\n",
       "      <td>n</td>\n",
       "      <td>...</td>\n",
       "      <td>s</td>\n",
       "      <td>w</td>\n",
       "      <td>w</td>\n",
       "      <td>p</td>\n",
       "      <td>w</td>\n",
       "      <td>o</td>\n",
       "      <td>p</td>\n",
       "      <td>k</td>\n",
       "      <td>n</td>\n",
       "      <td>g</td>\n",
       "    </tr>\n",
       "  </tbody>\n",
       "</table>\n",
       "<p>5 rows × 23 columns</p>\n",
       "</div>"
      ],
      "text/plain": [
       "  class cap-shape cap-surface cap-color bruises odor gill-attachment  \\\n",
       "0     e         x           s         y       t    a               f   \n",
       "1     e         b           s         w       t    l               f   \n",
       "2     p         x           y         w       t    p               f   \n",
       "3     e         x           s         g       f    n               f   \n",
       "4     e         x           y         y       t    a               f   \n",
       "\n",
       "  gill-spacing gill-size gill-color   ...   stalk-surface-below-ring  \\\n",
       "0            c         b          k   ...                          s   \n",
       "1            c         b          n   ...                          s   \n",
       "2            c         n          n   ...                          s   \n",
       "3            w         b          k   ...                          s   \n",
       "4            c         b          n   ...                          s   \n",
       "\n",
       "  stalk-color-above-ring stalk-color-below-ring veil-type veil-color  \\\n",
       "0                      w                      w         p          w   \n",
       "1                      w                      w         p          w   \n",
       "2                      w                      w         p          w   \n",
       "3                      w                      w         p          w   \n",
       "4                      w                      w         p          w   \n",
       "\n",
       "  ring-number ring-type spore-print-color population habitat  \n",
       "0           o         p                 n          n       g  \n",
       "1           o         p                 n          n       m  \n",
       "2           o         p                 k          s       u  \n",
       "3           o         e                 n          a       g  \n",
       "4           o         p                 k          n       g  \n",
       "\n",
       "[5 rows x 23 columns]"
      ]
     },
     "execution_count": 3,
     "metadata": {},
     "output_type": "execute_result"
    }
   ],
   "source": [
    "dataset.head()"
   ]
  },
  {
   "cell_type": "code",
   "execution_count": 4,
   "metadata": {},
   "outputs": [
    {
     "name": "stdout",
     "output_type": "stream",
     "text": [
      "e    4208\n",
      "p    3915\n",
      "Name: class, dtype: int64\n"
     ]
    },
    {
     "data": {
      "text/plain": [
       "51.8"
      ]
     },
     "execution_count": 4,
     "metadata": {},
     "output_type": "execute_result"
    }
   ],
   "source": [
    "# Prints the number of rows for each class label\n",
    "print(dataset[\"class\"].value_counts())\n",
    "# Computes the percentage of the edible class \n",
    "round(dataset[\"class\"].value_counts()[0]/(dataset[\"class\"].value_counts()[0]\n",
    "                                    + dataset[\"class\"].value_counts()[1])*100, 2)"
   ]
  },
  {
   "cell_type": "markdown",
   "metadata": {},
   "source": [
    "We can see there is a good balance of the two class labels across the samples."
   ]
  },
  {
   "cell_type": "markdown",
   "metadata": {},
   "source": [
    "Mushroom Features: ([good domain knowledge overview](https://datascienceplus.com/mushrooms-classification-part-1/))\n",
    "\n",
    "![m](https://www.english-online.at/biology/mushrooms/parts-of-a-mushroom.gif) \n",
    "\n",
    "`cap-shape`: bell=b,conical=c,convex=x,flat=f, knobbed=k,sunken=s. ![m](https://datascienceplus.com/wp-content/uploads/2018/02/mushroom-cap-shape.jpg)\n",
    "\n",
    "`cap-surface`: fibrous=f,grooves=g,scaly=y,smooth=s ![m](https://datascienceplus.com/wp-content/uploads/2018/02/mushroom-cap-surface.jpg)\n",
    "\n",
    "`cap-color`: brown=n,buff=b,cinnamon=c,gray=g,green=r, pink=p,purple=u,red=e,white=w,yellow=y.\n",
    "\n",
    "`bruises`: bruises=t,no=f. While identifying mushrooms, check for [bruising]((https://www.mushroom-appreciation.com/identifying-mushrooms.html) by nicking the top and bottom of the cap and watching for any color change.  \n",
    "\n",
    "`odor`: almond=a,anise=l,creosote=c,fishy=y,foul=f, musty=m,none=n,pungent=p,spicy=s. \n",
    "\n",
    "`gill-attachment`: attached=a,descending=d,free=f,notched=n. ![m](https://datascienceplus.com/wp-content/uploads/2018/02/mushroom-gill-attachment.jpg)\n",
    "\n",
    "`gill-spacing`: close=c,crowded=w,distant=d. ![m](https://datascienceplus.com/wp-content/uploads/2018/02/mushroom-gill-spacing.jpg)\n",
    "\n",
    "`gill-color`: black=k,brown=n,buff=b,chocolate=h,gray=g, green=r,orange=o,pink=p,purple=u,red=e,white=w,yellow=y. \n",
    "\n",
    "`stalk-shape`: enlarging=e,tapering=t.   \n",
    "\n",
    "`stalk-root`: bulbous=b,club=c,cup=u,equal=e,rhizomorphs=z,rooted=r,missing=?. ![m](https://datascienceplus.com/wp-content/uploads/2018/02/mushroom-stalk.jpg)\n",
    "\n",
    "`stalk-surface-above-ring`: fibrous=f,scaly=y,silky=k,smooth=s.  \n",
    "\n",
    "`stalk-surface-below-ring`: fibrous=f,scaly=y,silky=k,smooth=s.  \n",
    "\n",
    "`stalk-color-above-ring`: brown=n,buff=b,cinnamon=c,gray=g,orange=o, pink=p,red=e,white=w,yellow=y.  \n",
    "\n",
    "`stalk-color-below-ring`: brown=n,buff=b,cinnamon=c,gray=g,orange=o, pink=p,red=e,white=w,yellow=y.  \n",
    "\n",
    "`veil-type`: partial=p,universal=u. Tissue that connects the stem and the cap before the gills are exposed. ![m](https://upload.wikimedia.org/wikipedia/commons/thumb/b/b7/1797-09-03_Agaricus_campestris_Plate_by_James_Sowerby.jpg/640px-1797-09-03_Agaricus_campestris_Plate_by_James_Sowerby.jpg)  \n",
    "\n",
    "`veil-color`: brown=n,orange=o,white=w,yellow=y.\n",
    "\n",
    "`ring-number`: none=n,one=o,two=t.\n",
    "\n",
    "`ring-type`: cobwebby=c,evanescent=e,flaring=f,large=l, none=n,pendant=p,sheathing=s,zone=z. ![m](https://datascienceplus.com/wp-content/uploads/2018/02/mushroom-ring-type.jpg)  \n",
    "\n",
    "`spore-print-color`:  black=k,brown=n,buff=b,chocolate=h,green=r, orange=o,purple=u,white=w,yellow=y. For most mushrooms, if the cap is cut off and placed gill-side-down overnight, a powdery impression reflecting the shape of the gills (or pores, or spines, etc.) is formed (when the fruit body is sporulating). The color of the powdery print, called a spore print, is used to help classify mushrooms and can help to identify them.  \n",
    "\n",
    "`population`: abundant=a,clustered=c,numerous=n, scattered=s,several=v,solitary=y.  \n",
    "\n",
    "`habitat`: grasses=g,leaves=l,meadows=m,paths=p, urban=u,waste=w,woods=d. \n"
   ]
  },
  {
   "cell_type": "code",
   "execution_count": 5,
   "metadata": {},
   "outputs": [
    {
     "data": {
      "text/plain": [
       "class                          0\n",
       "cap-shape                      0\n",
       "cap-surface                    0\n",
       "cap-color                      0\n",
       "bruises                        0\n",
       "odor                           0\n",
       "gill-attachment                0\n",
       "gill-spacing                   0\n",
       "gill-size                      0\n",
       "gill-color                     0\n",
       "stalk-shape                    0\n",
       "stalk-root                  2480\n",
       "stalk-surface-above-ring       0\n",
       "stalk-surface-below-ring       0\n",
       "stalk-color-above-ring         0\n",
       "stalk-color-below-ring         0\n",
       "veil-type                      0\n",
       "veil-color                     0\n",
       "ring-number                    0\n",
       "ring-type                      0\n",
       "spore-print-color              0\n",
       "population                     0\n",
       "habitat                        0\n",
       "dtype: int64"
      ]
     },
     "execution_count": 5,
     "metadata": {},
     "output_type": "execute_result"
    }
   ],
   "source": [
    "# Replaces \"?\" (UCI ML missing values are denoted by a question mark) with np.NaN\n",
    "# across all datapoints of dataset\n",
    "dataset.replace('?', np.NaN, inplace=True)\n",
    "# Gets the number of missing values on each column\n",
    "dataset.isna().sum()"
   ]
  },
  {
   "cell_type": "markdown",
   "metadata": {},
   "source": [
    "As we can see, the only column with missing values is `stalk-root`. This is basically the type of root `stalk-root`: bulbous=b,club=c,cup=u,equal=e,rhizomorphs=z,rooted=r,missing=?. ![m](https://datascienceplus.com/wp-content/uploads/2018/02/mushroom-stalk.jpg). "
   ]
  },
  {
   "cell_type": "code",
   "execution_count": 6,
   "metadata": {},
   "outputs": [
    {
     "data": {
      "text/html": [
       "<div>\n",
       "<style scoped>\n",
       "    .dataframe tbody tr th:only-of-type {\n",
       "        vertical-align: middle;\n",
       "    }\n",
       "\n",
       "    .dataframe tbody tr th {\n",
       "        vertical-align: top;\n",
       "    }\n",
       "\n",
       "    .dataframe thead th {\n",
       "        text-align: right;\n",
       "    }\n",
       "</style>\n",
       "<table border=\"1\" class=\"dataframe\">\n",
       "  <thead>\n",
       "    <tr style=\"text-align: right;\">\n",
       "      <th>stalk-root</th>\n",
       "      <th>b</th>\n",
       "      <th>c</th>\n",
       "      <th>e</th>\n",
       "      <th>r</th>\n",
       "    </tr>\n",
       "    <tr>\n",
       "      <th>class</th>\n",
       "      <th></th>\n",
       "      <th></th>\n",
       "      <th></th>\n",
       "      <th></th>\n",
       "    </tr>\n",
       "  </thead>\n",
       "  <tbody>\n",
       "    <tr>\n",
       "      <th>e</th>\n",
       "      <td>1920</td>\n",
       "      <td>512</td>\n",
       "      <td>864</td>\n",
       "      <td>192</td>\n",
       "    </tr>\n",
       "    <tr>\n",
       "      <th>p</th>\n",
       "      <td>1856</td>\n",
       "      <td>44</td>\n",
       "      <td>255</td>\n",
       "      <td>0</td>\n",
       "    </tr>\n",
       "  </tbody>\n",
       "</table>\n",
       "</div>"
      ],
      "text/plain": [
       "stalk-root     b    c    e    r\n",
       "class                          \n",
       "e           1920  512  864  192\n",
       "p           1856   44  255    0"
      ]
     },
     "execution_count": 6,
     "metadata": {},
     "output_type": "execute_result"
    }
   ],
   "source": [
    "# Computes the contingency table for stalk-root and the class labels\n",
    "stalk_root_edibility_table = pd.crosstab(index=dataset[\"class\"], columns=dataset[\"stalk-root\"])\n",
    "stalk_root_edibility_table"
   ]
  },
  {
   "cell_type": "code",
   "execution_count": 7,
   "metadata": {},
   "outputs": [
    {
     "data": {
      "image/png": "[encoded data removed]",
      "text/plain": [
       "<Figure size 576x576 with 1 Axes>"
      ]
     },
     "metadata": {},
     "output_type": "display_data"
    }
   ],
   "source": [
    "# Plots a stacked column chart for each class label \n",
    "stalk_root_edibility_table.plot(kind=\"bar\", figsize=(8,8),stacked=True)\n",
    "plt.show() "
   ]
  },
  {
   "cell_type": "code",
   "execution_count": 8,
   "metadata": {},
   "outputs": [],
   "source": [
    "# Subsets the dataset between the edible and the poisonous class labels\n",
    "dataset_p = dataset[dataset[\"class\"] == \"p\"]\n",
    "dataset_e = dataset[dataset[\"class\"] == \"e\"] "
   ]
  },
  {
   "cell_type": "code",
   "execution_count": 9,
   "metadata": {},
   "outputs": [
    {
     "name": "stdout",
     "output_type": "stream",
     "text": [
      " poison\n",
      "b    1856\n",
      "e     255\n",
      "c      44\n",
      "Name: stalk-root, dtype: int64\n",
      "\n",
      " not poison\n",
      "b    1920\n",
      "e     864\n",
      "c     512\n",
      "r     192\n",
      "Name: stalk-root, dtype: int64\n"
     ]
    }
   ],
   "source": [
    "print(\" poison\")\n",
    "print(dataset_p[\"stalk-root\"].value_counts())\n",
    "print(\"\\n\", \"not poison\")\n",
    "print(dataset_e[\"stalk-root\"].value_counts())"
   ]
  },
  {
   "cell_type": "markdown",
   "metadata": {},
   "source": [
    "Based on this, we can see that `stalk-root` is probably not one of the most powerfult predictors. The bulbous roots have the same proportion of class labels, and while the equal and club stalks are more prevalent on the edible mushrooms, it shouldn't make much of a difference on the machine learning process. However, we can see that all the rooted mushrooms are edible, but the sample size is not big enough (about 2.3% of the total sample size) to be relevant. We could run a $\\chi^2$-test, but it would not really shed much more light in the matter. Instead, we will implement our models on slightly different datasets and compare them. \n",
    "\n",
    "1. Dataset without column `stalk-root`.\n",
    "2. Raw dataset with `?` as `np.NaN`.\n",
    "3. Raw dataset (treating `?` as possible value of `stalk-root`).\n",
    "4. Dataset without rows with missing values (losing 30% of our data)."
   ]
  },
  {
   "cell_type": "markdown",
   "metadata": {},
   "source": [
    "We could also impute the missing values by mode imputation"
   ]
  },
  {
   "cell_type": "code",
   "execution_count": 10,
   "metadata": {},
   "outputs": [
    {
     "data": {
      "text/plain": [
       "b    3776\n",
       "e    1119\n",
       "c     556\n",
       "r     192\n",
       "Name: stalk-root, dtype: int64"
      ]
     },
     "execution_count": 10,
     "metadata": {},
     "output_type": "execute_result"
    }
   ],
   "source": [
    "dataset[\"stalk-root\"].value_counts()"
   ]
  },
  {
   "cell_type": "code",
   "execution_count": 11,
   "metadata": {},
   "outputs": [],
   "source": [
    "# Imputes the missing values on the dataset\n",
    "from sklearn.impute import SimpleImputer\n",
    "imp = SimpleImputer(strategy=\"most_frequent\")\n",
    "dataset_imputed = pd.DataFrame(imp.fit_transform(dataset), columns = columns)"
   ]
  },
  {
   "cell_type": "code",
   "execution_count": 12,
   "metadata": {},
   "outputs": [
    {
     "data": {
      "text/plain": [
       "b    6256\n",
       "e    1119\n",
       "c     556\n",
       "r     192\n",
       "Name: stalk-root, dtype: int64"
      ]
     },
     "execution_count": 12,
     "metadata": {},
     "output_type": "execute_result"
    }
   ],
   "source": [
    "dataset_imputed[\"stalk-root\"].value_counts()"
   ]
  },
  {
   "cell_type": "markdown",
   "metadata": {},
   "source": [
    "but this is not a very good approach as the other values don't play any roll in the matter. A better approach would be to impute all classes on the same proportion as the non-missing data."
   ]
  },
  {
   "cell_type": "code",
   "execution_count": 13,
   "metadata": {},
   "outputs": [],
   "source": [
    "# Subsets the dataset to only get the rows with missing values\n",
    "dataset_stalk_root_nan = dataset.iloc[dataset[\"stalk-root\"][\n",
    "    dataset[\"stalk-root\"].isna()\n",
    "].index]"
   ]
  },
  {
   "cell_type": "code",
   "execution_count": 14,
   "metadata": {},
   "outputs": [
    {
     "data": {
      "text/plain": [
       "p    1760\n",
       "e     720\n",
       "Name: class, dtype: int64"
      ]
     },
     "execution_count": 14,
     "metadata": {},
     "output_type": "execute_result"
    }
   ],
   "source": [
    "dataset_stalk_root_nan[\"class\"].value_counts()"
   ]
  },
  {
   "cell_type": "markdown",
   "metadata": {},
   "source": [
    "We can see that the rows with missing values consist of 2.44 times more poisonous class than edible. Thus, we are going to take this into account. Out of all the missing rows, 29 % will need to have the `dataset_e[\"stalk-root\"].value_counts()` distribution, while 71% will have the `dataset_p[\"stalk-root\"].value_counts()` distribution. "
   ]
  },
  {
   "cell_type": "code",
   "execution_count": 15,
   "metadata": {},
   "outputs": [],
   "source": [
    "number_class_b = round(dataset_stalk_root_nan.shape[0]*(\n",
    "    0.29*(dataset_e[\"stalk-root\"].value_counts()[0]/(\n",
    "    dataset_e[\"stalk-root\"].value_counts()[0] + dataset_e[\"stalk-root\"].value_counts()[1] +\n",
    "    dataset_e[\"stalk-root\"].value_counts()[2] + dataset_e[\"stalk-root\"].value_counts()[3])) + \n",
    "    0.71 * (dataset_p[\"stalk-root\"].value_counts()[0]/(\n",
    "    dataset_p[\"stalk-root\"].value_counts()[0] + dataset_p[\"stalk-root\"].value_counts()[1] +\n",
    "    dataset_p[\"stalk-root\"].value_counts()[2])))) - 1 # to make the rounds make sense\n",
    "\n",
    "number_class_e = round(dataset_stalk_root_nan.shape[0]*(\n",
    "    0.29*(dataset_e[\"stalk-root\"].value_counts()[1]/(\n",
    "    dataset_e[\"stalk-root\"].value_counts()[0] + dataset_e[\"stalk-root\"].value_counts()[1] +\n",
    "    dataset_e[\"stalk-root\"].value_counts()[2] + dataset_e[\"stalk-root\"].value_counts()[3])) + \n",
    "    0.71 * (dataset_p[\"stalk-root\"].value_counts()[1]/(\n",
    "    dataset_p[\"stalk-root\"].value_counts()[0] + dataset_p[\"stalk-root\"].value_counts()[1] +\n",
    "    dataset_p[\"stalk-root\"].value_counts()[2]))))\n",
    "\n",
    "number_class_c = round(dataset_stalk_root_nan.shape[0]*(\n",
    "    0.29*(dataset_e[\"stalk-root\"].value_counts()[2]/(\n",
    "    dataset_e[\"stalk-root\"].value_counts()[0] + dataset_e[\"stalk-root\"].value_counts()[1] +\n",
    "    dataset_e[\"stalk-root\"].value_counts()[2] + dataset_e[\"stalk-root\"].value_counts()[3])) + \n",
    "    0.71 * (dataset_p[\"stalk-root\"].value_counts()[2]/(\n",
    "    dataset_p[\"stalk-root\"].value_counts()[0] + dataset_p[\"stalk-root\"].value_counts()[1] +\n",
    "    dataset_p[\"stalk-root\"].value_counts()[2]))))\n",
    "\n",
    "number_class_r = round(dataset_stalk_root_nan.shape[0]*(\n",
    "    0.29*(dataset_e[\"stalk-root\"].value_counts()[3]/(\n",
    "    dataset_e[\"stalk-root\"].value_counts()[0] + dataset_e[\"stalk-root\"].value_counts()[1] +\n",
    "    dataset_e[\"stalk-root\"].value_counts()[2] + dataset_e[\"stalk-root\"].value_counts()[3]))))"
   ]
  },
  {
   "cell_type": "markdown",
   "metadata": {},
   "source": [
    "Not sure if this make that much sense, I think the change of imputting a wrong missing value is higher than with the mode, where we at least are guranteed to impute a percentage of values correctly (given they follow the same distribution). "
   ]
  },
  {
   "cell_type": "code",
   "execution_count": null,
   "metadata": {},
   "outputs": [],
   "source": []
  }
 ],
 "metadata": {
  "kernelspec": {
   "display_name": "Python 3",
   "language": "python",
   "name": "python3"
  },
  "language_info": {
   "codemirror_mode": {
    "name": "ipython",
    "version": 3
   },
   "file_extension": ".py",
   "mimetype": "text/x-python",
   "name": "python",
   "nbconvert_exporter": "python",
   "pygments_lexer": "ipython3",
   "version": "3.6.5"
  }
 },
 "nbformat": 4,
 "nbformat_minor": 2
}
