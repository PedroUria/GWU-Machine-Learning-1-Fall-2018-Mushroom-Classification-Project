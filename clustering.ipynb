{
 "cells": [
  {
   "cell_type": "code",
   "execution_count": 1,
   "metadata": {},
   "outputs": [],
   "source": [
    "%matplotlib inline\n",
    "import matplotlib.pyplot as plt\n",
    "import warnings\n",
    "warnings.filterwarnings(\"ignore\")\n",
    "import numpy as np \n",
    "import pandas as pd\n",
    "from sklearn.cluster import KMeans\n",
    "from sklearn.model_selection import train_test_split\n",
    "from sklearn.preprocessing import StandardScaler\n",
    "from sklearn.preprocessing import LabelEncoder\n",
    "from sklearn.pipeline import Pipeline\n",
    "from sklearn.model_selection import GridSearchCV\n",
    "from sklearn.model_selection import StratifiedKFold"
   ]
  },
  {
   "cell_type": "markdown",
   "metadata": {},
   "source": [
    "# 1. "
   ]
  },
  {
   "cell_type": "code",
   "execution_count": 2,
   "metadata": {},
   "outputs": [],
   "source": [
    "# Loads the data from UCI Machine Learning Repo into a pandas DataFrame\n",
    "mushrooms = pd.read_csv(\"https://archive.ics.uci.edu/ml/machine-learning-databases/mushroom/agaricus-lepiota.data\")\n",
    "columns = ['class', 'cap-shape', 'cap-surface', 'cap-color', 'bruises', 'odor',\n",
    "       'gill-attachment', 'gill-spacing', 'gill-size', 'gill-color',\n",
    "       'stalk-shape', 'stalk-root', 'stalk-surface-above-ring',\n",
    "       'stalk-surface-below-ring', 'stalk-color-above-ring',\n",
    "       'stalk-color-below-ring', 'veil-type', 'veil-color', 'ring-number',\n",
    "       'ring-type', 'spore-print-color', 'population', 'habitat']\n",
    "# Names the columns \n",
    "mushrooms.columns = columns\n",
    "# Replace \"?\" (represents missing values on UCI Machine Learning Repo) witn np.NaN\n",
    "mushrooms.replace('?', np.NaN, inplace = True)"
   ]
  },
  {
   "cell_type": "code",
   "execution_count": 83,
   "metadata": {},
   "outputs": [],
   "source": [
    "# Gets a dataset without the problematic feature\n",
    "mushrooms_no_stalk_root = mushrooms.drop(\"stalk-root\", axis = 1)\n",
    "\n",
    "# Gets the predictor features \n",
    "X = mushrooms_no_stalk_root.drop([\"class\"], axis=1)\n",
    "# And encodes them (they are all categorical)\n",
    "X = pd.get_dummies(X).values\n",
    "# Gets the target feature (binary)\n",
    "y = mushrooms_no_stalk_root[\"class\"].values\n",
    "\n",
    "le = LabelEncoder()\n",
    "# Encodes the target\n",
    "y = le.fit_transform(y)\n",
    "\n",
    "# Splits between training and testing, stratifying by the target variable\n",
    "X_train, X_test, y_train, y_test = train_test_split(X, y, test_size = 0.3, random_state = 0, stratify = y)\n",
    "\n",
    "# Gets the indexes of the unique class labels\n",
    "classes, indices = np.unique(y_train, return_index=True)\n",
    "# Removes lables from y_train minus two unique ones\n",
    "y_train = np.array([y_train[i] if i in indices else -1 for i in range(y_train.shape[0])])"
   ]
  },
  {
   "cell_type": "code",
   "execution_count": 84,
   "metadata": {},
   "outputs": [
    {
     "name": "stdout",
     "output_type": "stream",
     "text": [
      "Accuracy: 0.9043906442347148\n"
     ]
    }
   ],
   "source": [
    "from sklearn.cluster import KMeans\n",
    "km = KMeans(n_clusters=2, random_state=2)   \n",
    "y_train_pred = km.fit_predict(X_train)\n",
    "dict_ = {}\n",
    "#for i in range(y_train.shape[0]):\n",
    "#    if y_train[i] != -1:\n",
    "#        key = y_train_pred[i]\n",
    "#        val = y_train[i]\n",
    "#        dict_[key] = val\n",
    "dict_[0] = 1\n",
    "dict_[1] = 0\n",
    "y_test_pred = km.predict(X_test)\n",
    "y_test_pred = np.array([dict_[key] for key in y_test_pred])\n",
    "from sklearn.metrics import precision_recall_fscore_support\n",
    "print('Accuracy:', end=' ')\n",
    "print(precision_recall_fscore_support(y_test_pred, y_test, average='micro')[0])"
   ]
  },
  {
   "cell_type": "markdown",
   "metadata": {},
   "source": [
    "## Using only most significant features"
   ]
  },
  {
   "cell_type": "code",
   "execution_count": 85,
   "metadata": {},
   "outputs": [],
   "source": [
    "# Gets the predictor features \n",
    "X = mushrooms[['odor','stalk-surface-above-ring','gill-color','gill-size',\n",
    "                                  'spore-print-color','stalk-surface-below-ring','ring-type']]\n",
    "# And encodes them (they are all categorical)\n",
    "X = pd.get_dummies(X).values\n",
    "# Gets the target feature (binary)\n",
    "y = mushrooms[\"class\"].values\n",
    "\n",
    "le = LabelEncoder()\n",
    "# Encodes the target\n",
    "y = le.fit_transform(y)\n",
    "\n",
    "# Splits between training and testing, stratifying by the target variable\n",
    "X_train, X_test, y_train, y_test = train_test_split(X, y, test_size = 0.3, random_state = 0, stratify = y)\n",
    "\n",
    "# Gets the indexes of the unique class labels\n",
    "classes, indices = np.unique(y_train, return_index=True)\n",
    "# Removes lables from y_train minus two unique ones\n",
    "y_train = np.array([y_train[i] if i in indices else -1 for i in range(y_train.shape[0])])"
   ]
  },
  {
   "cell_type": "code",
   "execution_count": 86,
   "metadata": {},
   "outputs": [
    {
     "name": "stdout",
     "output_type": "stream",
     "text": [
      "[ 0 -1 -1  1 -1]\n",
      "[0 1 1 0 1]\n",
      "Accuracy: 0.9006975789905621\n"
     ]
    }
   ],
   "source": [
    "from sklearn.cluster import KMeans\n",
    "km = KMeans(n_clusters=2, random_state=2)   \n",
    "y_train_pred = km.fit_predict(X_train)\n",
    "print(y_train[:5])\n",
    "print(y_train_pred[:5])\n",
    "dict_ = {}\n",
    "#for i in range(y_train.shape[0]):\n",
    "#    if y_train[i] != -1:\n",
    "#        key = y_train_pred[i]\n",
    "#        val = y_train[i]\n",
    "#        dict_[key] = val\n",
    "dict_[0] = 1\n",
    "dict_[1] = 0\n",
    "y_test_pred = km.predict(X_test)\n",
    "y_test_pred = np.array([dict_[key] for key in y_test_pred])\n",
    "from sklearn.metrics import precision_recall_fscore_support\n",
    "print('Accuracy:', end=' ')\n",
    "print(precision_recall_fscore_support(y_test_pred, y_test, average='micro')[0])"
   ]
  },
  {
   "cell_type": "markdown",
   "metadata": {},
   "source": [
    "# 4."
   ]
  },
  {
   "cell_type": "code",
   "execution_count": 8,
   "metadata": {},
   "outputs": [],
   "source": [
    "# Gets a dataset without the problematic feature\n",
    "mushrooms_without_NaNs = mushrooms.dropna()\n",
    "# Gets the predictor features \n",
    "X = mushrooms_without_NaNs.drop([\"class\"], axis=1)\n",
    "# And encodes them (they are all categorical)\n",
    "X = pd.get_dummies(X).values\n",
    "# Gets the target feature (binary)\n",
    "y = mushrooms_without_NaNs[\"class\"].values\n",
    "le = LabelEncoder()\n",
    "# Encodes the target\n",
    "y = le.fit_transform(y)\n",
    "\n",
    "# Splits between training and testing, stratifying by the target variable\n",
    "X_train, X_test, y_train, y_test = train_test_split(X, y, test_size = 0.3, random_state = 0, stratify = y)\n",
    "\n",
    "# Gets the indexes of the unique class labels\n",
    "classes, indices = np.unique(y_train, return_index=True)\n",
    "# Removes lables from y_train minus two unique ones\n",
    "y_train = np.array([y_train[i] if i in indices else -1 for i in range(y_train.shape[0])])"
   ]
  },
  {
   "cell_type": "code",
   "execution_count": 12,
   "metadata": {},
   "outputs": [
    {
     "name": "stdout",
     "output_type": "stream",
     "text": [
      "Accuracy: 0.8629651506202008\n"
     ]
    }
   ],
   "source": [
    "from sklearn.cluster import KMeans\n",
    "km = KMeans(n_clusters=2, random_state=2)   \n",
    "y_train_pred = km.fit_predict(X_train)\n",
    "dict_ = {}\n",
    "#for i in range(y_train.shape[0]):\n",
    "#    if y_train[i] != -1:\n",
    "#        key = y_train_pred[i]\n",
    "#        val = y_train[i]\n",
    "#        dict_[key] = val\n",
    "dict_[0] = 0\n",
    "dict_[1] = 1\n",
    "y_test_pred = km.predict(X_test)\n",
    "y_test_pred = np.array([dict_[key] for key in y_test_pred])\n",
    "from sklearn.metrics import precision_recall_fscore_support\n",
    "print('Accuracy:', end=' ')\n",
    "print(precision_recall_fscore_support(y_test_pred, y_test, average='micro')[0])"
   ]
  },
  {
   "cell_type": "code",
   "execution_count": 13,
   "metadata": {},
   "outputs": [],
   "source": [
    "# Gets the predictor features \n",
    "X = mushrooms.drop([\"class\"], axis=1)\n",
    "# And encodes them (they are all categorical)\n",
    "X = pd.get_dummies(X).values\n",
    "# Gets the target feature (binary)\n",
    "y = mushrooms[\"class\"].values\n",
    "le = LabelEncoder()\n",
    "# Encodes the target\n",
    "y = le.fit_transform(y)\n",
    "\n",
    "# Splits between training and testing, stratifying by the target variable\n",
    "X_train, X_test, y_train, y_test = train_test_split(X, y, test_size = 0.3, random_state = 0, stratify = y)\n",
    "\n",
    "# Gets the indexes of the unique class labels\n",
    "classes, indices = np.unique(y_train, return_index=True)\n",
    "# Removes lables from y_train minus two unique ones\n",
    "y_train = np.array([y_train[i] if i in indices else -1 for i in range(y_train.shape[0])])"
   ]
  },
  {
   "cell_type": "code",
   "execution_count": 14,
   "metadata": {},
   "outputs": [
    {
     "name": "stdout",
     "output_type": "stream",
     "text": [
      "Accuracy: 0.9043906442347148\n"
     ]
    }
   ],
   "source": [
    "from sklearn.cluster import KMeans\n",
    "km = KMeans(n_clusters=2, random_state=2)   \n",
    "y_train_pred = km.fit_predict(X_train)\n",
    "dict_ = {}\n",
    "#for i in range(y_train.shape[0]):\n",
    "#    if y_train[i] != -1:\n",
    "#        key = y_train_pred[i]\n",
    "#        val = y_train[i]\n",
    "#        dict_[key] = val\n",
    "dict_[0] = 0\n",
    "dict_[1] = 1\n",
    "y_test_pred = km.predict(X_test)\n",
    "y_test_pred = np.array([dict_[key] for key in y_test_pred])\n",
    "from sklearn.metrics import precision_recall_fscore_support\n",
    "print('Accuracy:', end=' ')\n",
    "print(precision_recall_fscore_support(y_test_pred, y_test, average='micro')[0])"
   ]
  },
  {
   "cell_type": "code",
   "execution_count": null,
   "metadata": {},
   "outputs": [],
   "source": []
  }
 ],
 "metadata": {
  "kernelspec": {
   "display_name": "Python 3",
   "language": "python",
   "name": "python3"
  },
  "language_info": {
   "codemirror_mode": {
    "name": "ipython",
    "version": 3
   },
   "file_extension": ".py",
   "mimetype": "text/x-python",
   "name": "python",
   "nbconvert_exporter": "python",
   "pygments_lexer": "ipython3",
   "version": "3.6.5"
  }
 },
 "nbformat": 4,
 "nbformat_minor": 2
}
